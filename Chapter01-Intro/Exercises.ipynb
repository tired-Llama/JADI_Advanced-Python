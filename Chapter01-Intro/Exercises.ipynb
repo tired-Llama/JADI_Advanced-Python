{
 "cells": [
  {
   "cell_type": "markdown",
   "metadata": {},
   "source": [
    "\n",
    "# تمرین برنامه‌نویسی: مقسوم‌علیه اول\n",
    "\n",
    "برنامه‌ای بنویسید که 10 عدد از ورودی بخواند و در انتها عددی که بیشترین تعداد مقسوم‌علیه عدد اول را دارد به همراه تعداد مقسوم‌علیه‌های اول آن، در خروجی چاپ کند. اگر چند عدد این حالت را داشتند، بزرگترین آن‌ها را چاپ کند.\n",
    "\n",
    "ورودی نمونه:\n",
    "\n",
    "\n",
    "```\n",
    "    123\n",
    "    43\n",
    "    54\n",
    "    12\n",
    "    76\n",
    "    84\n",
    "    98\n",
    "    678\n",
    "    543\n",
    "    231 \n",
    "```\n",
    "\n",
    "خروجی نمونه:\n",
    "\n",
    "\n",
    "```\n",
    "    678 3\n",
    "```\n",
    "\n",
    "توجه: چنانچه قصد دارید از دیکشنری در حل مسائل خود استفاده کنید، به این نکته توجه کنید که دیکشنری ترتیب را حفظ نمی‌کند.\n"
   ]
  },
  {
   "cell_type": "code",
   "execution_count": null,
   "metadata": {},
   "outputs": [],
   "source": [
    "#NOTE - get enteries\n",
    "entery = []\n",
    "for i in range(10):\n",
    "    entery.append(int(input()))"
   ]
  },
  {
   "cell_type": "code",
   "execution_count": 36,
   "metadata": {},
   "outputs": [],
   "source": [
    "def aya_aval(x):\n",
    "    if x==1:\n",
    "        return False\n",
    "    state = True\n",
    "    for i in range(2,x):\n",
    "        if x%i == 0:\n",
    "            state = False\n",
    "            break\n",
    "    return state\n",
    "\n",
    "def tedad_mqsmalh_aval(x):\n",
    "    addad_aval_ta = [i for i in range(1,max(entery)+1) if aya_aval(i)]\n",
    "    n = 0\n",
    "    for i in addad_aval_ta:\n",
    "        if x%i ==0:\n",
    "            n+=1\n",
    "    return n"
   ]
  },
  {
   "cell_type": "code",
   "execution_count": 44,
   "metadata": {},
   "outputs": [
    {
     "name": "stdout",
     "output_type": "stream",
     "text": [
      "678 3\n"
     ]
    }
   ],
   "source": [
    "tahlil = [(tedad_mqsmalh_aval(i),i) for i in entery]\n",
    "tahlil.reverse()\n",
    "print(tahlil[0][1],tahlil[0][0],sep=\" \")"
   ]
  }
 ],
 "metadata": {
  "kernelspec": {
   "display_name": "AI-venv",
   "language": "python",
   "name": "python3"
  },
  "language_info": {
   "codemirror_mode": {
    "name": "ipython",
    "version": 3
   },
   "file_extension": ".py",
   "mimetype": "text/x-python",
   "name": "python",
   "nbconvert_exporter": "python",
   "pygments_lexer": "ipython3",
   "version": "3.12.3"
  }
 },
 "nbformat": 4,
 "nbformat_minor": 2
}
