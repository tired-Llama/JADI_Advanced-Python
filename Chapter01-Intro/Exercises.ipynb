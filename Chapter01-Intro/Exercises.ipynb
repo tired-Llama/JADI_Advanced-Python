{
 "cells": [
  {
   "cell_type": "markdown",
   "metadata": {},
   "source": [
    "# فصل اول - مقدمه\n",
    "## تمرین برنامه‌نویسی: مقسوم‌علیه اول\n",
    "\n",
    "برنامه‌ای بنویسید که 10 عدد از ورودی بخواند و در انتها عددی که بیشترین تعداد مقسوم‌علیه عدد اول را دارد به همراه تعداد مقسوم‌علیه‌های اول آن، در خروجی چاپ کند. اگر چند عدد این حالت را داشتند، بزرگترین آن‌ها را چاپ کند.\n",
    "\n",
    "ورودی نمونه:\n",
    "\n",
    "\n",
    "```\n",
    "    123\n",
    "    43\n",
    "    54\n",
    "    12\n",
    "    76\n",
    "    84\n",
    "    98\n",
    "    678\n",
    "    543\n",
    "    231 \n",
    "```\n",
    "\n",
    "خروجی نمونه:\n",
    "\n",
    "\n",
    "```\n",
    "    678 3\n",
    "```\n",
    "\n",
    "توجه: چنانچه قصد دارید از دیکشنری در حل مسائل خود استفاده کنید، به این نکته توجه کنید که دیکشنری ترتیب را حفظ نمی‌کند.\n"
   ]
  },
  {
   "cell_type": "code",
   "execution_count": null,
   "metadata": {},
   "outputs": [],
   "source": [
    "#NOTE - get enteries\n",
    "entery = []\n",
    "for i in range(10):\n",
    "    entery.append(int(input()))"
   ]
  },
  {
   "cell_type": "code",
   "execution_count": null,
   "metadata": {},
   "outputs": [],
   "source": [
    "def aya_aval(x):\n",
    "    \"\"\" checks if a given number is a prime number or not\\n\n",
    "    returns True or False \"\"\"\n",
    "    if x==1:\n",
    "        return False\n",
    "    state = True\n",
    "    for i in range(2,x):\n",
    "        if x%i == 0:\n",
    "            state = False\n",
    "            break\n",
    "    return state\n",
    "\n",
    "def tedad_mqsmalh_aval(x):\n",
    "    \"\"\" returns number of prime devisors for a given number \"\"\"\n",
    "    addad_aval_ta = [i for i in range(1,max(entery)+1) if aya_aval(i)]\n",
    "    n = 0\n",
    "    for i in addad_aval_ta:\n",
    "        if x%i ==0:\n",
    "            n+=1\n",
    "    return n"
   ]
  },
  {
   "cell_type": "code",
   "execution_count": null,
   "metadata": {},
   "outputs": [
    {
     "name": "stdout",
     "output_type": "stream",
     "text": [
      "678 3\n"
     ]
    }
   ],
   "source": [
    "tahlil = [(tedad_mqsmalh_aval(i),i) for i in entery]    #NOTE - create nested list of numbers and the number of their prime divisors\n",
    "tahlil.reverse()\n",
    "print(tahlil[0][1],tahlil[0][0],sep=\" \")"
   ]
  },
  {
   "cell_type": "markdown",
   "metadata": {},
   "source": [
    "## تمرین برنامه‌نویسی: جدول گروه بی جام‌جهانی\n",
    "در گروه B مسابقات جام‌جهانی تیم‌های ایران، پرتغال، اسپانیا و مراکش حضور دارند. برنامه‌ای بنویسید که با دریافت نتایج بازی‌ها، نام تیم و تعداد برد و باخت و تفاضل گل و امتیاز آن‌ها را به ترتیب در یک خط چاپ کند. هر تیم به ترتیب امتیاز در یک خط چاپ شود. (در صورتی که امتیاز برابر بود، تعداد برد مدنظر قرار گیرد. در صورتی که هم تعداد برد و هم امتیاز برابر بود، بر اساس ترتیب حروف الفبا چاپ شوند.)\n",
    "\n",
    "نکته: تیم در صورت باخت صفر امتیاز، در صورت تساوی یک امتیاز و در صورت برد سه امتیاز کسب می کند.\n",
    "تفاضل گل تفاوت گل های زده و گل های خورده یک تیم است\n",
    "\n",
    "نتایج بازی‌ها را به ترتیب زیر بخواند: (در ورودی نمونه عدد سمت چپ مربوط به تیم سمت راست می‌باشد.)\\\n",
    "ایران – اسپانیا\\\n",
    "ایران – پرتغال\\\n",
    "ایران – مراکش\\\n",
    "اسپانیا – پرتغال\\\n",
    "اسپانیا – مراکش\\\n",
    "پرتغال - مراکش\n",
    "\n",
    "![تصویر فایل](/Chapter01-Intro/attachments/image.png)\n",
    "\n",
    "ورودی نمونه:\n",
    "```\n",
    "2-2\n",
    "2-1\n",
    "1-2\n",
    "2-2\n",
    "3-1\n",
    "2-1\n",
    "```\n",
    "خروجی نمونه:\n",
    "```\n",
    "Spain  wins:1 , loses:0 , draws:2 , goal difference:2 , points:5\n",
    "Iran  wins:1 , loses:1 , draws:1 , goal difference:0 , points:4\n",
    "Portugal  wins:1 , loses:1 , draws:1 , goal difference:0 , points:4\n",
    "Morocco  wins:1 , loses:2 , draws:0 , goal difference:-2 , points:3\n",
    "```\n",
    "توجه: چنانچه قصد دارید از دیکشنری در حل مسائل خود استفاده کنید، به این نکته توجه کنید که دیکشنری ترتیب را حفظ نمی‌کند."
   ]
  },
  {
   "cell_type": "code",
   "execution_count": null,
   "metadata": {},
   "outputs": [],
   "source": [
    "entery = []\n",
    "for i in range(6):\n",
    "    entery.append([int(i.strip()) for i in input().split(\"-\")])"
   ]
  },
  {
   "cell_type": "code",
   "execution_count": 121,
   "metadata": {},
   "outputs": [],
   "source": [
    "#NOTE - sample input\n",
    "entery = [[2,2],[2,1],[1,2],[2,2],[3,1],[2,1]]"
   ]
  },
  {
   "cell_type": "code",
   "execution_count": null,
   "metadata": {},
   "outputs": [],
   "source": [
    "#NOTE - specify and organize data\n",
    "\"\"\" I used a simple manual method for this section\n",
    "of course by using `pandas` library this task would be much more easier \"\"\"\n",
    "\n",
    "Iran = entery[:3]\n",
    "Spain = [entery[0][::-1]]+entery[3:5]\n",
    "Portugal = [entery[1][::-1]]+[entery[3][::-1]]+[entery[-1]]\n",
    "Morocco = [entery[2][::-1]]+[entery[4][::-1]]+[entery[5][::-1]]\n",
    "\n",
    "def calc(x):\n",
    "    \"\"\" a functions that calculates wins, losses, draws, goal differences, and points\\n\n",
    "    returns a list of mentioned variables \"\"\"\n",
    "    win = sum([1 for i in x if i[0]>i[1]])\n",
    "    loss = sum([1 for i in x if i[0]<i[1]])\n",
    "    draw = sum([1 for i in x if i[0]==i[1]])\n",
    "    delta = sum([i[0] for i in x])-sum([i[1] for i in x])\n",
    "    points = draw + 3*win\n",
    "    return [win,loss,draw,delta,points]"
   ]
  },
  {
   "cell_type": "code",
   "execution_count": null,
   "metadata": {},
   "outputs": [
    {
     "name": "stdout",
     "output_type": "stream",
     "text": [
      "Spain  wins:1 , loses:0 , draws:2 , goal difference:2 , points:5\n",
      "Iran  wins:1 , loses:1 , draws:1 , goal difference:0 , points:4\n",
      "Portugal  wins:1 , loses:1 , draws:1 , goal difference:0 , points:4\n",
      "Morocco  wins:1 , loses:2 , draws:0 , goal difference:-2 , points:3\n"
     ]
    }
   ],
   "source": [
    "#NOTE - create a list for ranking contestants\n",
    "ranking = [\n",
    "    [calc(Iran)[-1],calc(Iran)[0],3,'Iran',calc(Iran)],\n",
    "    [calc(Morocco)[-1],calc(Morocco)[0],2,'Morocco',calc(Morocco)],\n",
    "    [calc(Portugal)[-1],calc(Portugal)[0],1,'Portugal',calc(Portugal)],\n",
    "    [calc(Spain)[-1],calc(Spain)[0],0,'Spain',calc(Spain)]\n",
    "]\n",
    "ranking.sort()\n",
    "\n",
    "for i in range(1,5):    #NOTE - print results in requested format\n",
    "    #NOTE - noete how I have used inline formating to print the requested numeric data into the string\n",
    "    \"\"\" to do so first type your string. where ever you want to insert a float use this format\n",
    "    %.2f\n",
    "    # the number after the period indicates number of decimals\n",
    "    at the end of the string, use the folowwing structure\n",
    "    %(value 1, value 2, value 3, ...)\n",
    "    # this must be formated as a tuple\"\"\"\n",
    "    print(ranking[-i][-2], \" wins:%.0f , loses:%.0f , draws:%.0f , goal difference:%.0f , points:%.0f\"%tuple(ranking[-i][-1]))  "
   ]
  },
  {
   "cell_type": "markdown",
   "metadata": {},
   "source": [
    "## تمرین برنامه‌نویسی: نظرسنجی ژانرهای مورد علاقه\n",
    "در یک نظرسنجی از افراد علاقه‌­مند به تماشای فیلم، درخواست شد تا 3 تا از ژانرهای مورد علاقه‌­ی خود را بنویسند. 6 ژانر مختلف برای انتخاب به آن­‌ها داده شده است که شامل:\n",
    "\n",
    "Horror, Romance, Comedy, History , Adventure , Action \\\n",
    "برنامه ای بنویسید که تعداد افراد را بگیرد سپس اسم هر فرد را با ژانرهای مورد علاقش بگیرد و اسم هر ژانر و تعداد افراد علاقه‌مند به آن ژانر را به ترتیب از بیشترین علاقه‌مندی در خروجی چاپ کند. ( در صورتی که میزان علاقه‌مندی در ژانرهای مختلف یکسان شد، به ترتیب الفبای انگلیسی در خروجی چاپ کنید.) در صورتی که ژانری انتخاب نشد، مقدار آن را صفر در نظر بگیرید و در خروجی اسم و عدد 0 را چاپ کنید.\n",
    "\n",
    "```\n",
    "4\n",
    "hossein Horror Romance Comedy\n",
    "mohsen Horror Action Comedy\n",
    "mina Adventure Action History\n",
    "sajjad Romance History Action\n",
    "```\n",
    "\n",
    "نمونه خروجی:\n",
    "```\n",
    "Action : 3\n",
    "Comedy : 2\n",
    "History : 2\n",
    "Horror : 2\n",
    "Romance : 2\n",
    "Adventure : 1\n",
    "```\n",
    "\n",
    "توجه: چنانچه قصد دارید از دیکشنری در حل مسائل خود استفاده کنید، به این نکته توجه کنید که دیکشنری ترتیب را حفظ نمی‌کند."
   ]
  },
  {
   "cell_type": "code",
   "execution_count": null,
   "metadata": {},
   "outputs": [
    {
     "name": "stdout",
     "output_type": "stream",
     "text": [
      "[['hossein', 'Horror', 'Romance', 'Comedy'], ['mohsen', 'Horror', 'Action', 'Comedy'], ['mina', 'Adventure', 'Action', 'History'], ['sajjad', 'Romance', 'History', 'Action']]\n"
     ]
    }
   ],
   "source": [
    "n = int(input())\n",
    "entery = []\n",
    "for i in range(n):\n",
    "    entery.append(input().split())\n",
    "\n",
    "# print(entery)"
   ]
  },
  {
   "cell_type": "code",
   "execution_count": null,
   "metadata": {},
   "outputs": [],
   "source": [
    "#NOTE - sample entery - do not include in final program\n",
    "entery =[['hossein', 'Horror', 'Romance', 'Comedy'], ['mohsen', 'Horror', 'Action', 'Comedy'], ['mina', 'Adventure', 'Action', 'History'], ['sajjad', 'Romance', 'History', 'Action']]"
   ]
  },
  {
   "cell_type": "code",
   "execution_count": null,
   "metadata": {},
   "outputs": [
    {
     "name": "stdout",
     "output_type": "stream",
     "text": [
      "Action : 3\n",
      "Comedy : 2\n",
      "History : 2\n",
      "Horror : 2\n",
      "Romance : 2\n",
      "Adventure : 1\n"
     ]
    }
   ],
   "source": [
    "#NOTE - move all casted votes into a single list\n",
    "votes = []\n",
    "for i in entery:\n",
    "    votes += [j for j in i[1:]]\n",
    "\n",
    "#NOTE - sort genres on alphabetic order\n",
    "genres = ['Horror', 'Romance', 'Comedy', 'History' , 'Adventure' , 'Action']\n",
    "genres.sort()\n",
    "#NOTE - calulate number of vote for each genre\n",
    "\"\"\" at this stage, the index value of two lists refer to the same Item \"\"\"\n",
    "scores = [votes.count(i) for i in genres]\n",
    "\n",
    "for i in range(max(scores),min(scores)-1,-1):       #NOTE - this loop moves from the maximum store to the minimum\n",
    "    for j in range(scores.count(i)):                #NOTE - this loop repeats each score based on its repeatence\n",
    "        # genres[scores.index(i)]                     #NOTE - not necessary line - find the genre corresponding to the score (remember that genre is sorted on alphabetical order)\n",
    "        print(genres[scores.index(i)],\":\",str(i))   #NOTE - print exercise's requested output\n",
    "        genres.remove(genres[scores.index(i)])      #NOTE - remove printed genre from the list\n",
    "        scores.remove(i)                            #NOTE - remove printed score from the list\n",
    "\n",
    "#REVIEW - this whole shrade could have been avoided by using the pandas library"
   ]
  },
  {
   "cell_type": "markdown",
   "metadata": {},
   "source": [
    "## تمرین برنامه‌نویسی: لیست المپیاد کامپیوتر\n",
    "احمد در حال ارسال لیست نهایی اسامی قبول شدگان المپیاد کامپیوتر برای کمیته‌ی بررسی نتایج می‌باشد تا کمیته بتواند کارت‌های ورود به مسابقات نهایی را چاپ کند ولی به دلیل آنکه قالب مشخصی برای ثبت نام اسامی در هنگام آزمون تعریف نشده بود، شرکت کننده‌ها به صورت استاندارد اسامی خود را ننوشته‌اند به علاوه در ادامه‌­ی هر اسم زبانی که با آن در مسابقات شرکت شده است، نوشته شده است و در ابتدای هر اسم نیز جنسیت افراد مشخص شده است. فرم استاندارد اسامی به این صورت می‌باشد که حرف اول اسم بزرگ می­‌باشد و بقیه حروف اسم کوچک باشد. برنامه‌ای بنویسید که تعداد و اسم و جنسیت و زبان قبول شدگان را از ورودی بخواند و بر اساس جنسیت اسامی را تفکیک کند و آن‌ها را استاندارد سازی کند و جلوی هر اسم زبانی که با آن در مسابقات شرکت کرده است را بنویسد. (در خروجی در ابتدا جنسیت زن و سپس جنسیت مرد چاپ شود. اسامی در هر جنسیت به ترتیب الفبای انگلیسی چاپ شوند.)\n",
    "\n",
    "توجه: چنانچه قصد دارید از دیکشنری در حل مسائل خود استفاده کنید، به این نکته توجه کنید که دیکشنری ترتیب را حفظ نمی‌کند.\n",
    "\n",
    "ورودی نمونه:\n",
    "```\n",
    "4\n",
    "m.hosSein.python\n",
    "f.miNa.C\n",
    "m.aHMad.C++\n",
    "f.Sara.java\n",
    "```\n",
    "خروجی نمونه:\n",
    "```\n",
    "f Mina C\n",
    "f Sara java\n",
    "m Ahmad C++\n",
    "m Hossein python\n",
    "```"
   ]
  },
  {
   "cell_type": "code",
   "execution_count": null,
   "metadata": {},
   "outputs": [
    {
     "name": "stdout",
     "output_type": "stream",
     "text": [
      "f Mina C\n",
      "f Sara java\n",
      "m Ahmad C++\n",
      "m Hossein python\n"
     ]
    }
   ],
   "source": [
    "#NOTE - well I think every thing is clear enough\n",
    "n = int(input())\n",
    "entery = []\n",
    "for i in range(n):\n",
    "    entery.append(input().split('.'))\n",
    "\n",
    "for i in entery:\n",
    "    n = entery.index(i)\n",
    "    entery[n][1] = str(entery[n][1]).capitalize()\n",
    "entery.sort()\n",
    "for i in entery:\n",
    "    print(i[0],i[1],i[2])"
   ]
  },
  {
   "cell_type": "markdown",
   "metadata": {},
   "source": [
    "## تمرین برنامه‌نویسی: کلمات شاخص\n",
    "برنامه‌ای بنویسید که از یک متن کلمات شاخص (کلماتی که با حروف بزرگ شروع می‌شوند) را به همراه شماره کلمه (چندمین کلمه می‌باشد) را در خروجی چاپ کند. در صورتی که در متن، کلمه‌ای با این ویژگی یافت نشد، در خروجی None چاپ کند. کلماتی که در ابتدای جمله می‌باشند به عنوان کلمه شاخص در نظر نباید بگیرید. (شماره کلمات را از یک شروع کنید)\n",
    "\n",
    "اعداد جز کلمات شاخص حساب نمی‌شوند. تنها نشانه مورد استفاده در جمله به جز نقطه، ویرگول می‌باشد. حتما دقت شود که در صورتی که نقطه یا ویرگول در آخر کلمه بود، حذف شود.\n",
    "\n",
    "ورودی نمونه:\n",
    "```\n",
    "The Persian League is the largest sport event dedicated to the deprived areas of Iran. The Persian League promotes peace and friendship. This video was captured by one of our heroes who wishes peace.\n",
    "```\n",
    "خروجی نمونه:\n",
    "```\n",
    "2:Persian\n",
    "3:League\n",
    "15:Iran\n",
    "17:Persian\n",
    "18:League\n",
    "```"
   ]
  },
  {
   "cell_type": "code",
   "execution_count": null,
   "metadata": {},
   "outputs": [
    {
     "name": "stdout",
     "output_type": "stream",
     "text": [
      "2:Persian\n",
      "3:League\n",
      "15:Iran\n",
      "17:Persian\n",
      "18:League\n"
     ]
    }
   ],
   "source": [
    "text = input()\n",
    "sentences = text.split('.')     #NOTE - split text into sentences\n",
    "sentences.pop()                 #NOTE - remove the final empty string\n",
    "words = [i.split() for i in sentences]      #NOTE - split each sentence into words\n",
    "counter = 0\n",
    "for i in words:\n",
    "    for j in i:\n",
    "        counter +=1\n",
    "        if j.islower() == False:\n",
    "            if j.isdigit() != True:\n",
    "                if i.index(j) != 0:\n",
    "                    j.replace(',','')\n",
    "                    print(counter,':',j,sep='')"
   ]
  },
  {
   "cell_type": "markdown",
   "metadata": {},
   "source": [
    "## تمرین برنامه‌نویسی: مترجم همراه\n",
    "نیما به دلیل عدم تسلط به زبان انگلیسی برای حضور در مسابقات بین المللی مجبور است، همراه مترجم در این نشست‌ها حضور پیدا کند. به دلیل آنکه به همراه بردن فرد دیگری جهت ترجمه هزینه بالایی را به همراه می‌آورد، نیما تصمیم می‌گیرد که به دنبال راه جایگزین بگردد. حال شما باید به نیما کمک کنید و مترجمی بنویسید که دیکشنری و جمله‌ی مربوطه را از ورودی بخواند و جمله را متناسب با زبانی که بیان شده است، ترجمه کند. در پروسه‌ی ترجمه اگر کلمه‌ای در دیکشنری وجود نداشت خود کلمه را در خروجی چاپ کنید.\n",
    "\n",
    "<div dir = 'rtl'>\n",
    "در خط اول ورودی یک عدد n وجود دارد که نمایانگر تعداد کلماتی است که در دیکشنری ترجمه آن موجود است. هر یک از n خط بعدی شامل چهار کلمه است که کلمات دوم تا چهارم ترجمه‌ی کلمه‌ی اول می‌باشند. هر کلمه در سه زبان مختلف ترجمه‌اش آورده شده است. کلمه دوم ترجمه انگلیسی، کلمه سوم ترجمه فرانسوی و کلمه چهارم ترجمه آلمانیِ کلمه‌ی اول می‌باشند. خط آخر شامل یک جمله است که نیاز به ترجمه از یکی از زبان‌های انگلیسی، فرانسوی و یا آلمانی به زبان کلمه اول می‌باشد. یک جمله شامل چند کلمه می‌باشد که با فاصله از هم جدا شده‌اند. برای اطلاعات بیشتر به ورودی نمونه و خروجی نمونه توجه کنید. (در صورتی که کلمه‌ی مورد نظر شامل دو بخش بود، آن را بدون فاصله در نظر بگیرید. به طور مثال کلمه‌ی laprogrammation در ورودی نمونه‌ی زیر به صورت la programmation می‌باشد که از فاصله‌ی بین دو قسمت آن صرفه نظر شده است. )\n",
    "<div>\n",
    "<div dir = 'ltr'>\n",
    "جمله پایانی ممکن است ترکیبی از کلمات سه زبان باشد.\n",
    "ورودی نمونه:\n",
    "\n",
    "```\n",
    "4\n",
    "man I je ich\n",
    "kheili very très sehr\n",
    "alaghemand interested intéressé interessiert \n",
    "barnamenevisi programming laprogrammation Programmierung\n",
    "I am very interested in programming\n",
    "```\n",
    "خروجی نمونه:\n",
    "```\n",
    "man am kheili alaghemand in barnamenevisi\n",
    "```\n",
    "توجه: چنانچه قصد دارید از دیکشنری در حل مسائل خود استفاده کنید، به این نکته توجه کنید که دیکشنری ترتیب را حفظ نمی‌کند.\n",
    "<div>"
   ]
  }
 ],
 "metadata": {
  "kernelspec": {
   "display_name": "AI-venv",
   "language": "python",
   "name": "python3"
  },
  "language_info": {
   "codemirror_mode": {
    "name": "ipython",
    "version": 3
   },
   "file_extension": ".py",
   "mimetype": "text/x-python",
   "name": "python",
   "nbconvert_exporter": "python",
   "pygments_lexer": "ipython3",
   "version": "3.12.3"
  }
 },
 "nbformat": 4,
 "nbformat_minor": 2
}
