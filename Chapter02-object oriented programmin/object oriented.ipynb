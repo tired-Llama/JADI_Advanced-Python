{
 "cells": [
  {
   "cell_type": "markdown",
   "metadata": {},
   "source": [
    "# Object oriented programming\n",
    "## Lambda function, filter, and map\n",
    "In this section, we will introduce a new type of function in advanced Python topics called lambda function . These functions are single-use and can be defined as anonymous. The way to define these functions is as follows.\n",
    "\n",
    "`A= Lambda x: x*2`\n",
    "\n",
    "There are three key components to defining this type of function:\n",
    "\n",
    "The first component is the lambda function keyword , which tells Python that we are defining this specific type of function.\n",
    "\n",
    "The second component is the function input argument, which comes after the word lambda and represents the function input.\n",
    "\n",
    "The third component is the definition of the operation within the function, which is placed as an expression after the : sign.\n",
    "\n",
    "After defining the function A as above, we can call this function as A(x) to apply the commands defined by the programmer to the input parameters specific to the function. One of the important uses of these functions is to use them as filter and map functions.\n",
    "\n",
    "Next, we will talk about two important features in advanced Python: filter commands and map function in Python .\n",
    "\n",
    "The map function in Python allows you to apply a function to all members of a list.\n",
    "\n",
    "The definition of map is as follows.\n",
    "\n",
    "`map(function, list_name)`          \n",
    "\n",
    "The first input to the map command is a function to be applied to the list, usually a lambda function, and the second input to the command is the name of the list to which the function is applied. map( lambda x: x**2, items)\n",
    "\n",
    "The filter function works similarly to the map function, except that it allows you to check a condition on all members of a list.\n",
    "\n",
    "`filter( lambda x: x < 0, number_list)`\n",
    "\n",
    "As you can see, filters, like maps, have two inputs. The first input is a lambda function that defines the desired condition, and the second input is the name of the list that this condition is applied to. The output of this command is a list of items where the function value was true.\n",
    "\n",
    "## generator functions yield in Python\n",
    "In this section, we will talk about some types of advanced functions in Python. One of these functions is the generator function . These functions are used for iteration. These functions are very similar to normal functions in Python. One of the differences between these functions is the use of the yield statement instead of return when getting output from functions. The difference between return and yield is that when using return, the entire function stops, but when we use the yield statement. The function in question is paused and stores the values ​​and states, and later, when called from the continuation of the states, it starts executing the function. This feature helps our programs to run faster and also consumes the memory used by programs more efficiently.\n",
    "\n",
    "## Introduction to object oriented programming\n",
    "In this section, we discuss the concept of advanced object-oriented programming  . In object-oriented programming, all values ​​and behaviors are placed in an entity called an object. The object-oriented programming method is contrasted with the functional or procedural programming method, which is in the form of functions and program blocks that are executed sequentially. In object-oriented programming, it was given the opportunity to put similar items into a class and create as many objects of that class with the same characteristics as desired.\n",
    "\n",
    "These objects have a series of variables that are like the characteristics of a person, such as age, height, name, etc.\n",
    "\n",
    "These properties are called Class attributes in object-oriented programming. Also, these objects in Python have their own behaviors that are attributed to these objects in the form of functions. In object-oriented programming, these functions are called methods. These fields and methods are placed inside a structure called a class. Classes contain information about objects and with their help, objects can be created and used. In object-oriented programming, we first need to create an object from a class. After creating this object, we can use the class-specific variables and methods on this object.\n",
    "\n",
    "Object-oriented programming helps programmers break down their problems into smaller components, increasing the speed and accuracy of programming and preventing unnecessary repetition.\n",
    "\n",
    "In the next session, we will discuss object-orientation in Python .\n",
    "\n",
    "[source proposed by Jadi](https://realpython.com/python3-object-oriented-programming/)\n",
    "\n",
    "### object oriented programming in pythons\n",
    "\n"
   ]
  }
 ],
 "metadata": {
  "kernelspec": {
   "display_name": "AI-venv",
   "language": "python",
   "name": "python3"
  },
  "language_info": {
   "codemirror_mode": {
    "name": "ipython",
    "version": 3
   },
   "file_extension": ".py",
   "mimetype": "text/x-python",
   "name": "python",
   "nbconvert_exporter": "python",
   "pygments_lexer": "ipython3",
   "version": "3.12.3"
  }
 },
 "nbformat": 4,
 "nbformat_minor": 2
}
